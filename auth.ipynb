{
 "cells": [
  {
   "cell_type": "code",
   "execution_count": 2,
   "metadata": {},
   "outputs": [],
   "source": [
    "import praw "
   ]
  },
  {
   "cell_type": "code",
   "execution_count": 4,
   "metadata": {},
   "outputs": [],
   "source": [
    "reddit  = praw.Reddit(client_secret='VjeNWQv0_9Uiv5h7Jl0-2agJaV9UBw',\n",
    "                    client_id='j2uYlMVUZPo3XQ',\n",
    "                    user_agent='wsb_capstone_palmieri',\n",
    "                    redirect_uri='http://localhost:8080'\n",
    "                   )"
   ]
  },
  {
   "cell_type": "code",
   "execution_count": 5,
   "metadata": {},
   "outputs": [
    {
     "name": "stdout",
     "output_type": "stream",
     "text": [
      "True\n"
     ]
    }
   ],
   "source": [
    "print(reddit.read_only) "
   ]
  },
  {
   "cell_type": "code",
   "execution_count": 8,
   "metadata": {},
   "outputs": [
    {
     "name": "stdout",
     "output_type": "stream",
     "text": [
      "What Are Your Moves Tomorrow, May 21, 2021\n",
      "WSB Rules - Please Read Before Posting\n",
      "New Home or Homeless\n",
      "3 weeks\n",
      "PLTR Life\n",
      "Maybe I should stop listening to myself\n",
      "We did it boys…. the buy out is beginning. Profiting around 500%.\n",
      "Read soms TL:DR, went all in GME\n",
      "Damn you retarded apes! Damn you all to hell!\n",
      "Yep... lost porn\n",
      "🕵️‍♂️ I SPY 5/20 Recap and 5/21 Outlook 🔭🎯\n",
      "Anatomy of a Day Trade\n",
      "UWMC, can’t go tits up\n",
      "$TELL back in the green you shit talkin mofos [after being -100k]\n",
      "Amc is ready to fill seats up again!\n",
      "SPCE about to rocket, literally.\n",
      "Got crushed by overextending on puts last year. Guess calls don't work any better. Can I get an F in the chat at the very least?\n",
      "UFOs and SPY\n",
      "T 😍👌🏾\n",
      "Be honest, do I have a chance here? FML.\n",
      "UWMC DD - sizzle and steak\n",
      "Youtube just updated their terms to put ads on every channel, regardless if they are part of youtube's partner program which requires 1k subscribers and 4000 watch hours.\n",
      "CLOV Tendies are back on the menu.\n",
      "VIAC - ViacomCBS all in YOLO\n",
      "Uwmc - Rocket fuelled for take off\n",
      "Why does JPM have to save COMEX at all?\n",
      "When dreams come true...NOT!!\n",
      "How’d I do? Did i win?\n",
      "Return of the 🐻🐻🐻 - $1m VIX Futures YOLO\n",
      "$TSLA to 400? Model X and S deliveries delayed AGAIN.\n"
     ]
    }
   ],
   "source": [
    "hot_posts = reddit.subreddit('wallstreetbets').hot(limit=30)\n",
    "for post in hot_posts:\n",
    "    print(post.title)"
   ]
  },
  {
   "cell_type": "code",
   "execution_count": null,
   "metadata": {},
   "outputs": [],
   "source": []
  }
 ],
 "metadata": {
  "kernelspec": {
   "display_name": "Python 3",
   "language": "python",
   "name": "python3"
  },
  "language_info": {
   "codemirror_mode": {
    "name": "ipython",
    "version": 3
   },
   "file_extension": ".py",
   "mimetype": "text/x-python",
   "name": "python",
   "nbconvert_exporter": "python",
   "pygments_lexer": "ipython3",
   "version": "3.7.4"
  }
 },
 "nbformat": 4,
 "nbformat_minor": 4
}
